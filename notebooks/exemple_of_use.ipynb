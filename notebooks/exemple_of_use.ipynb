{
 "cells": [
  {
   "cell_type": "markdown",
   "id": "777a0850",
   "metadata": {},
   "source": [
    "## Three Examples Where This Fast Solver Is Relevant"
   ]
  },
  {
   "cell_type": "markdown",
   "id": "aa19a205",
   "metadata": {},
   "source": [
    "# Convergence of a Non-Markovian Process\n",
    "\n",
    "We begin with an important remark. In the non-Markovian setup, we consider a non-recombining structure—that is, two paths that reach the same value at a future time step but have different pasts are treated as distinct. This contrasts with the Markovian case, where only the previous time step is considered.\n",
    "\n",
    "As a consequence, when the time horizon increases, the number of distinct paths grows exponentially, making the problem intractable due to the massive sampling required."
   ]
  },
  {
   "cell_type": "code",
   "execution_count": 1,
   "id": "bbd7ad93",
   "metadata": {},
   "outputs": [],
   "source": [
    "%load_ext autoreload\n",
    "%autoreload 2\n",
    "import sys\n",
    "import numpy as np\n",
    "import time\n",
    "import matplotlib.pyplot as plt\n",
    "sys.path.append('../')\n",
    "random_seed = 5"
   ]
  },
  {
   "cell_type": "markdown",
   "id": "fdcf4a67",
   "metadata": {},
   "source": [
    "## To Do:\n",
    "\n",
    "- **Non-Markovian Case:**\n",
    "  - Provide insights on how to choose an appropriate grid size — not too large to avoid excessive computation, but not too small to preserve accuracy.\n",
    "  - In the README (not in the code), explain that other solvers are either too slow to provide meaningful results or too inaccurate (e.g., neural network-based methods)\n",
    "\n",
    "- **Markovian Case:**\n",
    "  - Demonstrate that for a \"non-expanding\" process (e.g., mean-reverting Gaussian or autoregressive), the time complexity scales linearly with the time horizon, and the precision is only slightly affected.\n",
    "  - Show computations for cases where no closed-form solution is available (e.g., Black-Scholes or Cox-Ingersoll-Ross (CIR) models)."
   ]
  },
  {
   "cell_type": "markdown",
   "id": "08a91805",
   "metadata": {},
   "source": []
  }
 ],
 "metadata": {
  "kernelspec": {
   "display_name": ".venv",
   "language": "python",
   "name": "python3"
  },
  "language_info": {
   "codemirror_mode": {
    "name": "ipython",
    "version": 3
   },
   "file_extension": ".py",
   "mimetype": "text/x-python",
   "name": "python",
   "nbconvert_exporter": "python",
   "pygments_lexer": "ipython3",
   "version": "3.9.13"
  }
 },
 "nbformat": 4,
 "nbformat_minor": 5
}
