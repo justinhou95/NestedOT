{
 "cells": [
  {
   "cell_type": "code",
   "execution_count": null,
   "id": "5244ad4b",
   "metadata": {},
   "outputs": [
    {
     "name": "stdout",
     "output_type": "stream",
     "text": [
      "The autoreload extension is already loaded. To reload it, use:\n",
      "  %reload_ext autoreload\n"
     ]
    }
   ],
   "source": [
    "%load_ext autoreload\n",
    "%autoreload 2\n",
    "import sys\n",
    "import numpy as np\n",
    "import time\n",
    "sys.path.append('../')\n",
    "random_seed = 0"
   ]
  },
  {
   "cell_type": "code",
   "execution_count": 7,
   "id": "2a8b3826",
   "metadata": {},
   "outputs": [
    {
     "name": "stdout",
     "output_type": "stream",
     "text": [
      "Theoretical AW_2^2:  3.0\n",
      "Start computing\n",
      "Timestep 2\n",
      "Computing 12788 OTs .......\n",
      "Timestep 1\n",
      "Computing 4900 OTs .......\n",
      "Timestep 0\n",
      "Computing 1 OTs .......\n",
      "0.879873 seconds\n",
      "AW_2^2: 23.42\n",
      "Finish\n"
     ]
    },
    {
     "data": {
      "text/plain": [
       "23.42000000000001"
      ]
     },
     "execution_count": 7,
     "metadata": {},
     "output_type": "execute_result"
    }
   ],
   "source": [
    "from pnot.solver import Lmatrix2paths,  adapted_wasserstein_squared\n",
    "from pnot.utils import nested\n",
    "\n",
    "n_sample = 5000\n",
    "T = 3\n",
    "L = np.array([[1, 0, 0], [1, 1, 0], [1, 1, 1]])\n",
    "X,A = Lmatrix2paths(L, n_sample, seed = random_seed, verbose = False)\n",
    "M = np.array([[1, 0, 0], [2, 1, 0], [2, 1, 2]])\n",
    "Y,B = Lmatrix2paths(M, n_sample, seed = random_seed, verbose = False)\n",
    "\n",
    "dist_bench = adapted_wasserstein_squared(A, B)\n",
    "print(\"Theoretical AW_2^2: \", dist_bench)\n",
    "\n",
    "markovian = True\n",
    "delta_n = 0.1\n",
    "nested(X, Y, delta_n, markovian)"
   ]
  },
  {
   "cell_type": "code",
   "execution_count": 3,
   "id": "e99e8085",
   "metadata": {},
   "outputs": [],
   "source": [
    "# from pnot.utils_solver import Lmatrix2paths\n",
    "# from pnot.utils import Lmatrix2paths, nested\n",
    "\n",
    "# T = 10\n",
    "# n_sample = 20000\n",
    "# L = np.tril(np.random.rand(T, T))\n",
    "# M = np.tril(np.random.rand(T, T))\n",
    "\n",
    "# X, A = Lmatrix2paths(L, n_sample, seed=random_seed, verbose=False)\n",
    "# Y, B = Lmatrix2paths(M, n_sample, seed=random_seed, verbose=False)\n",
    "# nested(X,Y,0.005)"
   ]
  }
 ],
 "metadata": {
  "kernelspec": {
   "display_name": ".venv",
   "language": "python",
   "name": "python3"
  },
  "language_info": {
   "codemirror_mode": {
    "name": "ipython",
    "version": 3
   },
   "file_extension": ".py",
   "mimetype": "text/x-python",
   "name": "python",
   "nbconvert_exporter": "python",
   "pygments_lexer": "ipython3",
   "version": "3.9.13"
  }
 },
 "nbformat": 4,
 "nbformat_minor": 5
}
