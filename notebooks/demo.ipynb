{
 "cells": [
  {
   "cell_type": "code",
   "execution_count": 6,
   "id": "5244ad4b",
   "metadata": {},
   "outputs": [
    {
     "name": "stdout",
     "output_type": "stream",
     "text": [
      "The autoreload extension is already loaded. To reload it, use:\n",
      "  %reload_ext autoreload\n"
     ]
    }
   ],
   "source": [
    "%load_ext autoreload\n",
    "%autoreload 2\n",
    "import sys\n",
    "import numpy as np\n",
    "import time\n",
    "sys.path.append('../')\n",
    "random_seed = 10"
   ]
  },
  {
   "cell_type": "code",
   "execution_count": 7,
   "id": "2a8b3826",
   "metadata": {},
   "outputs": [
    {
     "name": "stdout",
     "output_type": "stream",
     "text": [
      "Theoretical AW_2^2:  3.0\n"
     ]
    }
   ],
   "source": [
    "from pnot.solver import Lmatrix2paths,  adapted_wasserstein_squared, path2adaptedpath, sort_qpath\n",
    "from pnot.solver import ConditionalLaw\n",
    "from pnot.solver import nested2, nested2_parallel\n",
    "from pnot.utils import nested\n",
    "\n",
    "n_sample = 10000\n",
    "T = 3\n",
    "L = np.array([[1, 0, 0], [1, 1, 0], [1, 1, 1]])\n",
    "X,A = Lmatrix2paths(L, n_sample, seed = random_seed, verbose = False)\n",
    "M = np.array([[1, 0, 0], [2, 1, 0], [2, 1, 2]])\n",
    "Y,B = Lmatrix2paths(M, n_sample, seed = random_seed, verbose = False)\n",
    "\n",
    "dist_bench = adapted_wasserstein_squared(A, B)\n",
    "print(\"Theoretical AW_2^2: \", dist_bench)\n",
    "\n",
    "delta_n = 1/n_sample**(1/T)\n",
    "delta_n = 0.01\n",
    "\n",
    "adaptedX = path2adaptedpath(X, delta_n)\n",
    "adaptedY = path2adaptedpath(Y, delta_n)\n",
    "\n",
    "# Quantization map\n",
    "q2v = np.unique(np.concatenate([adaptedX, adaptedY], axis=0))\n",
    "v2q = {k: v for v, k in enumerate(q2v)}  # Value to Quantization\n",
    "\n",
    "# Quantized paths\n",
    "qX = np.array([[v2q[x] for x in y] for y in adaptedX])\n",
    "qY = np.array([[v2q[x] for x in y] for y in adaptedY])\n",
    "\n",
    "# Sort paths and transpose to (n_sample, T+1)\n",
    "qX = sort_qpath(qX.T)\n",
    "qY = sort_qpath(qY.T)\n",
    "\n",
    "cost_matrix = np.square(q2v[:,None] - q2v[None,:])"
   ]
  },
  {
   "cell_type": "code",
   "execution_count": 10,
   "id": "0f17bc51",
   "metadata": {},
   "outputs": [
    {
     "name": "stderr",
     "output_type": "stream",
     "text": [
      "100%|██████████| 1203/1203 [01:16<00:00, 15.64it/s]\n",
      "100%|██████████| 1202/1202 [01:16<00:00, 15.67it/s]\n",
      "100%|██████████| 1203/1203 [01:17<00:00, 15.46it/s]\n",
      "100%|██████████| 1202/1202 [01:17<00:00, 15.57it/s]\n",
      "100%|██████████| 1202/1202 [01:17<00:00, 15.52it/s]\n",
      "100%|██████████| 1202/1202 [01:17<00:00, 15.57it/s]\n",
      "100%|██████████| 1202/1202 [01:19<00:00, 15.20it/s]\n",
      "100%|██████████| 1202/1202 [01:19<00:00, 15.21it/s]\n",
      "100%|██████████| 71/71 [00:01<00:00, 44.51it/s]\n",
      "100%|██████████| 71/71 [00:03<00:00, 21.27it/s]\n",
      "100%|██████████| 71/71 [00:04<00:00, 14.61it/s]\n",
      "100%|██████████| 71/71 [00:06<00:00, 11.23it/s]\n",
      "100%|██████████| 71/71 [00:05<00:00, 12.32it/s]\n",
      "100%|██████████| 70/70 [00:02<00:00, 28.09it/s]\n",
      "100%|██████████| 70/70 [00:04<00:00, 16.82it/s]\n",
      "100%|██████████| 70/70 [00:01<00:00, 56.92it/s]\n"
     ]
    },
    {
     "name": "stdout",
     "output_type": "stream",
     "text": [
      "Elapsed time (Adapted OT): 96.0669 seconds\n",
      "Numerical AW_2^2:  2.99963523\n"
     ]
    },
    {
     "name": "stderr",
     "output_type": "stream",
     "text": [
      "100%|██████████| 1/1 [00:00<00:00, 24.48it/s]\n"
     ]
    }
   ],
   "source": [
    "from pnot.solver import nested2, nested2_parallel\n",
    "from pnot.utils import nested\n",
    "\n",
    "kernel_x = ConditionalLaw(qX, False)\n",
    "kernel_y = ConditionalLaw(qY, False)\n",
    "\n",
    "# start_time = time.perf_counter()\n",
    "# AW_2square = nested2(kernel_x, kernel_y, cost_matrix)\n",
    "# end_time = time.perf_counter()\n",
    "# print(\"Elapsed time (Adapted OT): {:.4f} seconds\".format(end_time - start_time))\n",
    "# print(\"Numerical AW_2^2: \", AW_2square)\n",
    "\n",
    "\n",
    "start_time = time.perf_counter()\n",
    "AW_2square = nested2_parallel(kernel_x, kernel_y, cost_matrix)\n",
    "end_time = time.perf_counter()\n",
    "print(\"Elapsed time (Adapted OT): {:.4f} seconds\".format(end_time - start_time))\n",
    "print(\"Numerical AW_2^2: \", AW_2square)"
   ]
  },
  {
   "cell_type": "code",
   "execution_count": 11,
   "id": "d8b5f48d",
   "metadata": {},
   "outputs": [
    {
     "name": "stdout",
     "output_type": "stream",
     "text": [
      "Start computing\n",
      "Timestep 2\n",
      "Computing 92554014 OTs .......\n",
      "Timestep 1\n",
      "Computing 319225 OTs .......\n",
      "Timestep 0\n",
      "Computing 1 OTs .......\n",
      "5.26369 seconds\n",
      "AW_2^2: 2.99964\n",
      "Finish\n",
      "Numerical AW_2^2:  2.9996352300000018\n"
     ]
    }
   ],
   "source": [
    "markovian = False\n",
    "AW_2square = nested(X, Y, delta_n, markovian)\n",
    "print(\"Numerical AW_2^2: \", AW_2square)"
   ]
  },
  {
   "cell_type": "markdown",
   "id": "130986e3",
   "metadata": {},
   "source": [
    "# Non-Markovian Solver"
   ]
  },
  {
   "cell_type": "code",
   "execution_count": 3,
   "id": "f5419a9e",
   "metadata": {},
   "outputs": [
    {
     "name": "stdout",
     "output_type": "stream",
     "text": [
      "Start computing\n",
      "Timestep 2\n",
      "Computing 10000 OTs .......\n",
      "Timestep 1\n",
      "Computing 7744 OTs .......\n",
      "Timestep 0\n",
      "Computing 1 OTs .......\n",
      "0.00970092 seconds\n",
      "AW_2^2: 2.54543\n",
      "Finish\n",
      "Numerical AW_2^2:  2.5454280000000007\n"
     ]
    },
    {
     "name": "stderr",
     "output_type": "stream",
     "text": [
      "Timestep 2: 100%|██████████| 100/100 [00:00<00:00, 1247.78it/s]\n",
      "Timestep 1: 100%|██████████| 88/88 [00:00<00:00, 826.63it/s]\n",
      "Timestep 0: 100%|██████████| 1/1 [00:00<00:00, 418.97it/s]\n"
     ]
    },
    {
     "name": "stdout",
     "output_type": "stream",
     "text": [
      "Elapsed time (Adapted OT): 0.2395 seconds\n",
      "Numerical AW_2^2:  2.5454280000000002\n"
     ]
    },
    {
     "name": "stderr",
     "output_type": "stream",
     "text": [
      "100%|██████████| 13/13 [00:00<00:00, 38.01it/s]\n",
      "100%|██████████| 13/13 [00:00<00:00, 677.57it/s]\n",
      "100%|██████████| 13/13 [00:00<00:00, 1067.09it/s]\n",
      "100%|██████████| 12/12 [00:00<00:00, 130.95it/s]\n",
      "100%|██████████| 13/13 [00:00<00:00, 1485.03it/s]\n",
      "100%|██████████| 12/12 [00:00<00:00, 1539.29it/s]\n",
      "100%|██████████| 12/12 [00:00<00:00, 1633.35it/s]\n",
      "100%|██████████| 12/12 [00:00<00:00, 2259.35it/s]\n",
      "100%|██████████| 11/11 [00:00<00:00, 593.48it/s]\n",
      "100%|██████████| 11/11 [00:00<00:00, 268.88it/s]\n",
      "100%|██████████| 11/11 [00:00<00:00, 490.39it/s]\n",
      "100%|██████████| 11/11 [00:00<00:00, 502.90it/s]\n",
      "100%|██████████| 11/11 [00:00<00:00, 876.44it/s]\n",
      "100%|██████████| 11/11 [00:00<00:00, 798.44it/s]\n",
      "100%|██████████| 11/11 [00:00<00:00, 990.18it/s]\n",
      "100%|██████████| 11/11 [00:00<00:00, 1176.22it/s]\n"
     ]
    },
    {
     "name": "stdout",
     "output_type": "stream",
     "text": [
      "Elapsed time (Adapted OT): 4.9584 seconds\n",
      "Numerical AW_2^2:  2.5454280000000002\n"
     ]
    },
    {
     "name": "stderr",
     "output_type": "stream",
     "text": [
      "100%|██████████| 1/1 [00:00<00:00, 1085.48it/s]\n"
     ]
    }
   ],
   "source": [
    "from pnot.solver import nested2, nested2_parallel\n",
    "from pnot.utils import nested\n",
    "\n",
    "markovian = False\n",
    "\n",
    "AW_2square = nested(X, Y, delta_n, markovian)\n",
    "print(\"Numerical AW_2^2: \", AW_2square)\n",
    "\n",
    "kernel_x = ConditionalLaw(qX, markovian)\n",
    "kernel_y = ConditionalLaw(qY, markovian)\n",
    "\n",
    "start_time = time.perf_counter()\n",
    "AW_2square = nested2(kernel_x, kernel_y, cost_matrix)\n",
    "end_time = time.perf_counter()\n",
    "print(\"Elapsed time (Adapted OT): {:.4f} seconds\".format(end_time - start_time))\n",
    "print(\"Numerical AW_2^2: \", AW_2square)\n",
    "\n",
    "\n",
    "start_time = time.perf_counter()\n",
    "AW_2square = nested2_parallel(kernel_x, kernel_y, cost_matrix)\n",
    "end_time = time.perf_counter()\n",
    "print(\"Elapsed time (Adapted OT): {:.4f} seconds\".format(end_time - start_time))\n",
    "print(\"Numerical AW_2^2: \", AW_2square)"
   ]
  },
  {
   "cell_type": "markdown",
   "id": "5662b870",
   "metadata": {},
   "source": [
    "# Markovian Solver"
   ]
  },
  {
   "cell_type": "code",
   "execution_count": 4,
   "id": "72a350f6",
   "metadata": {},
   "outputs": [],
   "source": [
    "# from pnot.utils import nested\n",
    "# markovian = True\n",
    "# nested(X, Y, delta_n, markovian)"
   ]
  },
  {
   "cell_type": "code",
   "execution_count": 5,
   "id": "071413ba",
   "metadata": {},
   "outputs": [],
   "source": [
    "# qX"
   ]
  },
  {
   "cell_type": "code",
   "execution_count": 6,
   "id": "bf90e82a",
   "metadata": {},
   "outputs": [],
   "source": [
    "# kernel_x.q2idx[2]"
   ]
  },
  {
   "cell_type": "code",
   "execution_count": 7,
   "id": "4c54d373",
   "metadata": {},
   "outputs": [],
   "source": [
    "# kernel_x.v[1]"
   ]
  },
  {
   "cell_type": "code",
   "execution_count": 8,
   "id": "1d6b944e",
   "metadata": {},
   "outputs": [],
   "source": [
    "# kernel_x.next_idx[1]"
   ]
  },
  {
   "cell_type": "code",
   "execution_count": 4,
   "id": "6f88d931",
   "metadata": {},
   "outputs": [
    {
     "name": "stdout",
     "output_type": "stream",
     "text": [
      "Start computing\n",
      "Timestep 2\n",
      "Computing 8460 OTs .......\n",
      "Timestep 1\n",
      "Computing 7744 OTs .......\n",
      "Timestep 0\n",
      "Computing 1 OTs .......\n",
      "0.0103447 seconds\n",
      "AW_2^2: 5.7677\n",
      "Finish\n",
      "Numerical AW_2^2:  5.767699999999999\n"
     ]
    },
    {
     "name": "stderr",
     "output_type": "stream",
     "text": [
      "Timestep 2: 100%|██████████| 90/90 [00:00<00:00, 1765.20it/s]\n",
      "Timestep 1: 100%|██████████| 88/88 [00:00<00:00, 1174.43it/s]\n",
      "Timestep 0: 100%|██████████| 1/1 [00:00<00:00, 555.91it/s]"
     ]
    },
    {
     "name": "stdout",
     "output_type": "stream",
     "text": [
      "Elapsed time (Adapted OT): 0.1313 seconds\n",
      "Numerical AW_2^2:  2.9327935000000007\n"
     ]
    },
    {
     "name": "stderr",
     "output_type": "stream",
     "text": [
      "\n",
      "100%|██████████| 12/12 [00:00<00:00, 1402.43it/s]\n",
      "100%|██████████| 11/11 [00:00<00:00, 1047.91it/s]\n",
      "100%|██████████| 12/12 [00:00<00:00, 927.43it/s]\n",
      "100%|██████████| 11/11 [00:00<00:00, 1415.47it/s]\n",
      "100%|██████████| 11/11 [00:00<00:00, 2420.76it/s]\n",
      "100%|██████████| 11/11 [00:00<00:00, 2243.05it/s]\n",
      "100%|██████████| 11/11 [00:00<00:00, 2655.08it/s]\n",
      "100%|██████████| 11/11 [00:00<00:00, 2310.33it/s]\n",
      "100%|██████████| 11/11 [00:00<00:00, 320.57it/s]\n",
      "100%|██████████| 11/11 [00:00<00:00, 834.67it/s]\n",
      "100%|██████████| 11/11 [00:00<00:00, 831.50it/s]\n",
      "100%|██████████| 11/11 [00:00<00:00, 523.71it/s]\n",
      "100%|██████████| 11/11 [00:00<00:00, 1051.80it/s]\n",
      "100%|██████████| 11/11 [00:00<00:00, 1308.42it/s]\n",
      "100%|██████████| 11/11 [00:00<00:00, 1168.60it/s]\n",
      "100%|██████████| 11/11 [00:00<00:00, 1388.84it/s]\n"
     ]
    },
    {
     "name": "stdout",
     "output_type": "stream",
     "text": [
      "Elapsed time (Adapted OT): 3.9887 seconds\n",
      "Numerical AW_2^2:  2.9327935000000007\n"
     ]
    },
    {
     "name": "stderr",
     "output_type": "stream",
     "text": [
      "100%|██████████| 1/1 [00:00<00:00, 707.30it/s]\n"
     ]
    }
   ],
   "source": [
    "markovian = True\n",
    "\n",
    "AW_2square = nested(X, Y, delta_n, markovian)\n",
    "print(\"Numerical AW_2^2: \", AW_2square)\n",
    "\n",
    "kernel_x = ConditionalLaw(qX, markovian)\n",
    "kernel_y = ConditionalLaw(qY, markovian)\n",
    "\n",
    "start_time = time.perf_counter()\n",
    "AW_2square = nested2(kernel_x, kernel_y, cost_matrix)\n",
    "end_time = time.perf_counter()\n",
    "print(\"Elapsed time (Adapted OT): {:.4f} seconds\".format(end_time - start_time))\n",
    "print(\"Numerical AW_2^2: \", AW_2square)\n",
    "\n",
    "\n",
    "start_time = time.perf_counter()\n",
    "AW_2square = nested2_parallel(kernel_x, kernel_y, cost_matrix)\n",
    "end_time = time.perf_counter()\n",
    "print(\"Elapsed time (Adapted OT): {:.4f} seconds\".format(end_time - start_time))\n",
    "print(\"Numerical AW_2^2: \", AW_2square)\n",
    "\n"
   ]
  },
  {
   "cell_type": "code",
   "execution_count": null,
   "id": "843a34a6",
   "metadata": {},
   "outputs": [],
   "source": []
  }
 ],
 "metadata": {
  "kernelspec": {
   "display_name": ".venv",
   "language": "python",
   "name": "python3"
  },
  "language_info": {
   "codemirror_mode": {
    "name": "ipython",
    "version": 3
   },
   "file_extension": ".py",
   "mimetype": "text/x-python",
   "name": "python",
   "nbconvert_exporter": "python",
   "pygments_lexer": "ipython3",
   "version": "3.9.13"
  }
 },
 "nbformat": 4,
 "nbformat_minor": 5
}
