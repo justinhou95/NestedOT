{
 "cells": [
  {
   "cell_type": "code",
   "execution_count": 2,
   "id": "5244ad4b",
   "metadata": {},
   "outputs": [
    {
     "name": "stdout",
     "output_type": "stream",
     "text": [
      "The autoreload extension is already loaded. To reload it, use:\n",
      "  %reload_ext autoreload\n"
     ]
    }
   ],
   "source": [
    "%load_ext autoreload\n",
    "%autoreload 2\n",
    "import numpy as np\n",
    "random_seed = np.random.randint(100)\n",
    "random_seed = 0"
   ]
  },
  {
   "cell_type": "code",
   "execution_count": 3,
   "id": "2a8b3826",
   "metadata": {},
   "outputs": [
    {
     "name": "stdout",
     "output_type": "stream",
     "text": [
      "[[1 0 0]\n",
      " [2 4 0]\n",
      " [3 2 1]]\n",
      "[[1 0 0]\n",
      " [2 3 0]\n",
      " [3 1 2]]\n",
      "Start computing\n",
      "Timestep 2\n",
      "Computing 97515141 OTs .......\n",
      "Timestep 1\n",
      "Computing 324900 OTs .......\n",
      "Timestep 0\n",
      "Computing 1 OTs .......\n",
      "4.73182 seconds\n",
      "AW_2^2: 2.9787\n",
      "Finish\n"
     ]
    },
    {
     "data": {
      "text/plain": [
       "2.978697243333332"
      ]
     },
     "execution_count": 3,
     "metadata": {},
     "output_type": "execute_result"
    }
   ],
   "source": [
    "from pnot.utils import Lmatrix2paths, nested\n",
    "n_sample = 10000\n",
    "T = 3\n",
    "L = np.array([[1, 0, 0], [2, 4, 0], [3, 2, 1]])\n",
    "X, A = Lmatrix2paths(L, n_sample, seed=random_seed, verbose=False)\n",
    "M = np.array([[1, 0, 0], [2, 3, 0], [3, 1, 2]])\n",
    "Y, B = Lmatrix2paths(M, n_sample, seed=random_seed, verbose=False)\n",
    "print(L)\n",
    "print(M)\n",
    "\n",
    "nested(X,Y,0.01)"
   ]
  }
 ],
 "metadata": {
  "kernelspec": {
   "display_name": ".venv",
   "language": "python",
   "name": "python3"
  },
  "language_info": {
   "codemirror_mode": {
    "name": "ipython",
    "version": 3
   },
   "file_extension": ".py",
   "mimetype": "text/x-python",
   "name": "python",
   "nbconvert_exporter": "python",
   "pygments_lexer": "ipython3",
   "version": "3.9.13"
  }
 },
 "nbformat": 4,
 "nbformat_minor": 5
}
