{
 "cells": [
  {
   "cell_type": "code",
   "execution_count": 1,
   "id": "5244ad4b",
   "metadata": {},
   "outputs": [],
   "source": [
    "%load_ext autoreload\n",
    "%autoreload 2\n",
    "import sys\n",
    "import numpy as np\n",
    "import time\n",
    "sys.path.append('../')\n",
    "random_seed = 1"
   ]
  },
  {
   "cell_type": "code",
   "execution_count": 2,
   "id": "ac3ae931",
   "metadata": {},
   "outputs": [
    {
     "name": "stdout",
     "output_type": "stream",
     "text": [
      "Theoretical AW_2^2:  3.0\n"
     ]
    }
   ],
   "source": [
    "from pnot.solver import Lmatrix2paths,  adapted_wasserstein_squared, path2adaptedpath, sort_qpath\n",
    "from pnot.solver import ConditionalLaw\n",
    "from pnot.solver import nested2, nested2_parallel\n",
    "from pnot.utils import nested, nestedmarkovian\n",
    "\n",
    "n_sample = 500\n",
    "T = 3\n",
    "L = np.array([[1, 0, 0], [1, 1, 0], [1, 1, 1]])\n",
    "X,A = Lmatrix2paths(L, n_sample, seed = random_seed, verbose = False)\n",
    "M = np.array([[1, 0, 0], [2, 1, 0], [2, 1, 2]])\n",
    "Y,B = Lmatrix2paths(M, n_sample, seed = random_seed, verbose = False)\n",
    "\n",
    "dist_bench = adapted_wasserstein_squared(A, B)\n",
    "print(\"Theoretical AW_2^2: \", dist_bench)\n",
    "\n",
    "delta_n = 1/n_sample**(1/T)\n",
    "delta_n = 0.01\n",
    "\n",
    "adaptedX = path2adaptedpath(X, delta_n)\n",
    "adaptedY = path2adaptedpath(Y, delta_n)\n",
    "\n",
    "# Quantization map\n",
    "q2v = np.unique(np.concatenate([adaptedX, adaptedY], axis=0))\n",
    "v2q = {k: v for v, k in enumerate(q2v)}  # Value to Quantization\n",
    "\n",
    "# Quantized paths\n",
    "qX = np.array([[v2q[x] for x in y] for y in adaptedX])\n",
    "qY = np.array([[v2q[x] for x in y] for y in adaptedY])\n",
    "\n",
    "# Sort paths and transpose to (n_sample, T+1)\n",
    "qX = sort_qpath(qX.T)\n",
    "qY = sort_qpath(qY.T)\n",
    "\n",
    "cost_matrix = np.square(q2v[:,None] - q2v[None,:])"
   ]
  },
  {
   "cell_type": "markdown",
   "id": "130986e3",
   "metadata": {},
   "source": [
    "# Non-Markovian Solver"
   ]
  },
  {
   "cell_type": "code",
   "execution_count": 3,
   "id": "f5419a9e",
   "metadata": {},
   "outputs": [
    {
     "name": "stdout",
     "output_type": "stream",
     "text": [
      "Start computing\n",
      "Timestep 2\n",
      "Computing 250000 OTs .......\n",
      "Timestep 1\n",
      "Computing 76176 OTs .......\n",
      "Timestep 0\n",
      "Computing 1 OTs .......\n",
      "0.0803173 seconds\n",
      "AW_2^2: 2.98388\n",
      "Finish\n",
      "Numerical AW_2^2:  2.983883999999997\n"
     ]
    },
    {
     "name": "stderr",
     "output_type": "stream",
     "text": [
      "Timestep 2: 100%|██████████| 500/500 [00:01<00:00, 451.45it/s]\n",
      "Timestep 1: 100%|██████████| 276/276 [00:01<00:00, 227.79it/s]\n",
      "Timestep 0: 100%|██████████| 1/1 [00:00<00:00, 128.17it/s]"
     ]
    },
    {
     "name": "stdout",
     "output_type": "stream",
     "text": [
      "Elapsed time (Adapted OT): 2.3767 seconds\n",
      "Numerical AW_2^2:  2.983884\n"
     ]
    },
    {
     "name": "stderr",
     "output_type": "stream",
     "text": [
      "\n",
      "100%|██████████| 63/63 [00:00<00:00, 287.12it/s]\n",
      "100%|██████████| 63/63 [00:00<00:00, 293.72it/s]\n",
      "100%|██████████| 62/62 [00:00<00:00, 287.01it/s]\n",
      "100%|██████████| 62/62 [00:00<00:00, 372.97it/s]\n",
      "100%|██████████| 63/63 [00:00<00:00, 332.89it/s]\n",
      "100%|██████████| 62/62 [00:00<00:00, 356.42it/s]\n",
      "100%|██████████| 62/62 [00:00<00:00, 325.80it/s]\n",
      "100%|██████████| 63/63 [00:00<00:00, 242.27it/s]\n",
      "100%|██████████| 35/35 [00:00<00:00, 140.04it/s]\n",
      "100%|██████████| 35/35 [00:00<00:00, 134.84it/s]\n",
      "100%|██████████| 34/34 [00:00<00:00, 210.39it/s]\n",
      "100%|██████████| 34/34 [00:00<00:00, 155.31it/s]\n",
      "100%|██████████| 35/35 [00:00<00:00, 82.62it/s]\n",
      "100%|██████████| 34/34 [00:00<00:00, 127.95it/s]\n",
      "100%|██████████| 34/34 [00:00<00:00, 109.73it/s]\n",
      "100%|██████████| 35/35 [00:00<00:00, 88.05it/s]\n"
     ]
    },
    {
     "name": "stdout",
     "output_type": "stream",
     "text": [
      "Elapsed time (Adapted OT): 4.4690 seconds\n",
      "Numerical AW_2^2:  2.983884\n"
     ]
    },
    {
     "name": "stderr",
     "output_type": "stream",
     "text": [
      "100%|██████████| 1/1 [00:00<00:00, 167.36it/s]\n"
     ]
    }
   ],
   "source": [
    "from pnot.solver import nested2, nested2_parallel\n",
    "from pnot.utils import nested\n",
    "\n",
    "markovian = False\n",
    "\n",
    "AW_2square = nested(X, Y, delta_n, markovian)\n",
    "print(\"Numerical AW_2^2: \", AW_2square)\n",
    "\n",
    "kernel_x = ConditionalLaw(qX, markovian)\n",
    "kernel_y = ConditionalLaw(qY, markovian)\n",
    "\n",
    "start_time = time.perf_counter()\n",
    "AW_2square = nested2(kernel_x, kernel_y, cost_matrix)\n",
    "end_time = time.perf_counter()\n",
    "print(\"Elapsed time (Adapted OT): {:.4f} seconds\".format(end_time - start_time))\n",
    "print(\"Numerical AW_2^2: \", AW_2square)\n",
    "\n",
    "\n",
    "start_time = time.perf_counter()\n",
    "AW_2square = nested2_parallel(kernel_x, kernel_y, cost_matrix)\n",
    "end_time = time.perf_counter()\n",
    "print(\"Elapsed time (Adapted OT): {:.4f} seconds\".format(end_time - start_time))\n",
    "print(\"Numerical AW_2^2: \", AW_2square)"
   ]
  },
  {
   "cell_type": "markdown",
   "id": "5662b870",
   "metadata": {},
   "source": [
    "# Markovian Solver"
   ]
  },
  {
   "cell_type": "code",
   "execution_count": 4,
   "id": "6f88d931",
   "metadata": {},
   "outputs": [
    {
     "name": "stdout",
     "output_type": "stream",
     "text": [
      "Start computing\n",
      "Timestep 2\n",
      "Computing 117198 OTs .......\n",
      "Timestep 1\n",
      "Computing 76176 OTs .......\n",
      "Timestep 0\n",
      "Computing 1 OTs .......\n",
      "0.0909874 seconds\n",
      "AW_2^2: 3.90203\n",
      "Finish\n",
      "Numerical AW_2^2:  3.9020268910158755\n"
     ]
    },
    {
     "name": "stderr",
     "output_type": "stream",
     "text": [
      "Timestep 2: 100%|██████████| 306/306 [00:00<00:00, 376.62it/s]\n",
      "Timestep 1: 100%|██████████| 276/276 [00:01<00:00, 250.29it/s]\n",
      "Timestep 0: 100%|██████████| 1/1 [00:00<00:00, 167.03it/s]"
     ]
    },
    {
     "name": "stdout",
     "output_type": "stream",
     "text": [
      "Elapsed time (Adapted OT): 1.9248 seconds\n",
      "Numerical AW_2^2:  3.9020268910158733\n"
     ]
    },
    {
     "name": "stderr",
     "output_type": "stream",
     "text": [
      "\n",
      "100%|██████████| 38/38 [00:00<00:00, 225.08it/s]\n",
      "100%|██████████| 39/39 [00:00<00:00, 132.11it/s]\n",
      "100%|██████████| 39/39 [00:00<00:00, 168.88it/s]\n",
      "100%|██████████| 38/38 [00:00<00:00, 106.55it/s]\n",
      "100%|██████████| 38/38 [00:00<00:00, 146.41it/s]\n",
      "100%|██████████| 38/38 [00:00<00:00, 157.40it/s]\n",
      "100%|██████████| 38/38 [00:00<00:00, 346.55it/s]\n",
      "100%|██████████| 38/38 [00:00<00:00, 159.26it/s]\n",
      "100%|██████████| 35/35 [00:00<00:00, 116.73it/s]\n",
      "100%|██████████| 35/35 [00:00<00:00, 56.89it/s]\n",
      "100%|██████████| 34/34 [00:00<00:00, 255.25it/s]\n",
      "100%|██████████| 34/34 [00:00<00:00, 120.27it/s]\n",
      "100%|██████████| 34/34 [00:00<00:00, 175.60it/s]\n",
      "100%|██████████| 35/35 [00:00<00:00, 90.01it/s]\n",
      "100%|██████████| 34/34 [00:00<00:00, 106.75it/s]\n",
      "100%|██████████| 35/35 [00:00<00:00, 117.85it/s]\n"
     ]
    },
    {
     "name": "stdout",
     "output_type": "stream",
     "text": [
      "Elapsed time (Adapted OT): 4.9708 seconds\n",
      "Numerical AW_2^2:  3.9020268910158733\n"
     ]
    },
    {
     "name": "stderr",
     "output_type": "stream",
     "text": [
      "100%|██████████| 1/1 [00:00<00:00, 136.32it/s]\n"
     ]
    }
   ],
   "source": [
    "markovian = True\n",
    "\n",
    "AW_2square = nested(X, Y, delta_n, markovian)\n",
    "print(\"Numerical AW_2^2: \", AW_2square)\n",
    "\n",
    "kernel_x = ConditionalLaw(qX, markovian)\n",
    "kernel_y = ConditionalLaw(qY, markovian)\n",
    "\n",
    "start_time = time.perf_counter()\n",
    "AW_2square = nested2(kernel_x, kernel_y, cost_matrix)\n",
    "end_time = time.perf_counter()\n",
    "print(\"Elapsed time (Adapted OT): {:.4f} seconds\".format(end_time - start_time))\n",
    "print(\"Numerical AW_2^2: \", AW_2square)\n",
    "\n",
    "\n",
    "start_time = time.perf_counter()\n",
    "AW_2square = nested2_parallel(kernel_x, kernel_y, cost_matrix)\n",
    "end_time = time.perf_counter()\n",
    "print(\"Elapsed time (Adapted OT): {:.4f} seconds\".format(end_time - start_time))\n",
    "print(\"Numerical AW_2^2: \", AW_2square)\n",
    "\n"
   ]
  }
 ],
 "metadata": {
  "kernelspec": {
   "display_name": ".venv",
   "language": "python",
   "name": "python3"
  },
  "language_info": {
   "codemirror_mode": {
    "name": "ipython",
    "version": 3
   },
   "file_extension": ".py",
   "mimetype": "text/x-python",
   "name": "python",
   "nbconvert_exporter": "python",
   "pygments_lexer": "ipython3",
   "version": "3.9.13"
  }
 },
 "nbformat": 4,
 "nbformat_minor": 5
}
